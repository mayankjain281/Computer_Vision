{
 "cells": [
  {
   "cell_type": "code",
   "execution_count": null,
   "id": "ad31983b-3b45-401f-9e20-096690d428d9",
   "metadata": {},
   "outputs": [],
   "source": [
    "jupyter server extension enable --user --py jupyter_scheduler"
   ]
  },
  {
   "cell_type": "code",
   "execution_count": null,
   "id": "9d30a0b0-60ac-468f-83df-ab7379c2ee44",
   "metadata": {},
   "outputs": [],
   "source": []
  }
 ],
 "metadata": {
  "kernelspec": {
   "display_name": "Python 3 (ipykernel)",
   "language": "python",
   "name": "python3"
  },
  "language_info": {
   "codemirror_mode": {
    "name": "ipython",
    "version": 3
   },
   "file_extension": ".py",
   "mimetype": "text/x-python",
   "name": "python",
   "nbconvert_exporter": "python",
   "pygments_lexer": "ipython3",
   "version": "3.11.3"
  }
 },
 "nbformat": 4,
 "nbformat_minor": 5
}
